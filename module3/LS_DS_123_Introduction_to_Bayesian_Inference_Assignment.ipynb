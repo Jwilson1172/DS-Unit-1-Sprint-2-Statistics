{
  "nbformat": 4,
  "nbformat_minor": 0,
  "metadata": {
    "colab": {
      "name": "LS_DS_123_Introduction_to_Bayesian_Inference_Assignment.ipynb",
      "provenance": []
    },
    "kernelspec": {
      "name": "python3",
      "display_name": "Python 3"
    }
  },
  "cells": [
    {
      "cell_type": "markdown",
      "metadata": {
        "id": "H7OLbevlbd_Z",
        "colab_type": "text"
      },
      "source": [
        "# Lambda School Data Science Module 123\n",
        "\n",
        "## Introduction to Bayesian Inference\n",
        "\n",
        "\n"
      ]
    },
    {
      "cell_type": "markdown",
      "metadata": {
        "id": "P-DzzRk5bf0z",
        "colab_type": "text"
      },
      "source": [
        "## Assignment - Code it up!\n",
        "\n",
        "We used pure math to apply Bayes Theorem to drug tests. Now write Python code to reproduce the results! This is purposefully open ended - you'll have to think about how you should represent probabilities and events. You can and should look things up.\n",
        "\n",
        "Specific goals/targets:\n",
        "\n",
        "### 1) Write a function \n",
        "\n",
        "`def prob_drunk_given_positive(prob_drunk_prior, false_positive_rate):` \n",
        "\n",
        "You should only truly need these two values in order to apply Bayes Theorem. In this example, imagine that individuals are taking a breathalyzer test with an 8% false positive rate, a 100% true positive rate, and that our prior belief about drunk driving in the population is 1/1000. \n",
        " - What is the probability that a person is drunk after one positive breathalyzer test?\n",
        " - What is the probability that a person is drunk after two positive breathalyzer tests?\n",
        " - How many positive breathalyzer tests are needed in order to have a probability that's greater than 95% that a person is drunk beyond the legal limit?\n",
        "\n",
        "\n",
        "\n",
        "\n",
        "\n"
      ]
    },
    {
      "cell_type": "code",
      "metadata": {
        "id": "2FAhZ9S83thG",
        "colab_type": "code",
        "colab": {
          "base_uri": "https://localhost:8080/",
          "height": 1000
        },
        "outputId": "fef0d16e-aba8-47fc-8b19-21dee5004b14"
      },
      "source": [
        "def prob_drunk_wp(priors,false_pr,true_pr,epochs=1,CI=0.95):\n",
        "  \n",
        "  # a hook to save which test the person is determined to be drunk on\n",
        "  is_drunk_on=0\n",
        "  for i in range(epochs):\n",
        "    \n",
        "    # bayisan test\n",
        "    comp= 1-priors\n",
        "    num=true_pr*priors\n",
        "    den=num+(false_pr*comp)\n",
        "    posterior=num/den\n",
        "    \n",
        "    # determine if the results allign with the CI\n",
        "    if posterior >= CI:\n",
        "      # if this person is already drunk then do nothing\n",
        "      # otherwise record which was the first test they failed\n",
        "      if is_drunk_on != 0:\n",
        "        pass\n",
        "      else:\n",
        "        is_drunk_on=i+1\n",
        "      # state that we think this person is drunk and why\n",
        "      outcome=f\"with a CI of {CI},\\n\\twith a p-value of {1-posterior},\\n\\tI suggest that this person is drunk.\\n\"\n",
        "      outcome+=(f\"person was deemed to be drunk after {is_drunk_on} tests\\n\")\n",
        "    else:\n",
        "      # state that we think this person is not drunk and why\n",
        "      outcome=f\"with a CI of {CI},\\n\\twith a p-value of {1-posterior},\\n\\tI suggest that this person is not drunk.\\n\"\n",
        "    \n",
        "    # print all stats in 'pretty' format\n",
        "    print(f\"For epoch:{i+1}\\n\\tpriors:{priors}\\n\\tfalse_positive_rate:{false_pr}\\n\\\n",
        "\\tTrue_positive_rate:{true_pr}\\n\\tcomplement:{comp}\\n\\tBayesain Stat:{posterior}\\nConclusion:\\n\\t{outcome}\")\n",
        "    \n",
        "    # update the priors with new information incase we are running a new test\n",
        "    priors=posterior\n",
        "\n",
        "  # return at the end of our epochs\n",
        "  return ''\n",
        "\n",
        "# init the question variables\n",
        "priors=(1/1000)\n",
        "false_prate=0.08\n",
        "true_prate=1\n",
        "\n",
        "# one run\n",
        "print(\"Test 1: epochs 1\")\n",
        "prob_drunk_wp(priors,false_prate,true_prate,epochs=1)\n",
        "\n",
        "# two runs\n",
        "print(\"Test 2: epochs 2\")\n",
        "prob_drunk_wp(priors,false_prate,true_prate,epochs=2)\n",
        "\n",
        "# five runs\n",
        "print(\"Test 3: epochs 5\")\n",
        "prob_drunk_wp(priors,false_prate,true_prate,epochs=5)\n",
        "\n"
      ],
      "execution_count": 18,
      "outputs": [
        {
          "output_type": "stream",
          "text": [
            "Test 1: epochs 1\n",
            "For epoch:1\n",
            "\tpriors:0.001\n",
            "\tfalse_positive_rate:0.08\n",
            "\tTrue_positive_rate:1\n",
            "\tcomplement:0.999\n",
            "\tBayesain Stat:0.012357884330202669\n",
            "Conclusion:\n",
            "\twith a CI of 0.95,\n",
            "\twith a p-value of 0.9876421156697973,\n",
            "\tI suggest that this person is not drunk.\n",
            "\n",
            "Test 2: epochs 2\n",
            "For epoch:1\n",
            "\tpriors:0.001\n",
            "\tfalse_positive_rate:0.08\n",
            "\tTrue_positive_rate:1\n",
            "\tcomplement:0.999\n",
            "\tBayesain Stat:0.012357884330202669\n",
            "Conclusion:\n",
            "\twith a CI of 0.95,\n",
            "\twith a p-value of 0.9876421156697973,\n",
            "\tI suggest that this person is not drunk.\n",
            "\n",
            "For epoch:2\n",
            "\tpriors:0.012357884330202669\n",
            "\tfalse_positive_rate:0.08\n",
            "\tTrue_positive_rate:1\n",
            "\tcomplement:0.9876421156697973\n",
            "\tBayesain Stat:0.13525210993291495\n",
            "Conclusion:\n",
            "\twith a CI of 0.95,\n",
            "\twith a p-value of 0.8647478900670851,\n",
            "\tI suggest that this person is not drunk.\n",
            "\n",
            "Test 3: epochs 5\n",
            "For epoch:1\n",
            "\tpriors:0.001\n",
            "\tfalse_positive_rate:0.08\n",
            "\tTrue_positive_rate:1\n",
            "\tcomplement:0.999\n",
            "\tBayesain Stat:0.012357884330202669\n",
            "Conclusion:\n",
            "\twith a CI of 0.95,\n",
            "\twith a p-value of 0.9876421156697973,\n",
            "\tI suggest that this person is not drunk.\n",
            "\n",
            "For epoch:2\n",
            "\tpriors:0.012357884330202669\n",
            "\tfalse_positive_rate:0.08\n",
            "\tTrue_positive_rate:1\n",
            "\tcomplement:0.9876421156697973\n",
            "\tBayesain Stat:0.13525210993291495\n",
            "Conclusion:\n",
            "\twith a CI of 0.95,\n",
            "\twith a p-value of 0.8647478900670851,\n",
            "\tI suggest that this person is not drunk.\n",
            "\n",
            "For epoch:3\n",
            "\tpriors:0.13525210993291495\n",
            "\tfalse_positive_rate:0.08\n",
            "\tTrue_positive_rate:1\n",
            "\tcomplement:0.8647478900670851\n",
            "\tBayesain Stat:0.6615996951348605\n",
            "Conclusion:\n",
            "\twith a CI of 0.95,\n",
            "\twith a p-value of 0.3384003048651395,\n",
            "\tI suggest that this person is not drunk.\n",
            "\n",
            "For epoch:4\n",
            "\tpriors:0.6615996951348605\n",
            "\tfalse_positive_rate:0.08\n",
            "\tTrue_positive_rate:1\n",
            "\tcomplement:0.3384003048651395\n",
            "\tBayesain Stat:0.9606895076105054\n",
            "Conclusion:\n",
            "\twith a CI of 0.95,\n",
            "\twith a p-value of 0.03931049238949458,\n",
            "\tI suggest that this person is drunk.\n",
            "person was deemed to be drunk after 4 tests\n",
            "\n",
            "For epoch:5\n",
            "\tpriors:0.9606895076105054\n",
            "\tfalse_positive_rate:0.08\n",
            "\tTrue_positive_rate:1\n",
            "\tcomplement:0.03931049238949458\n",
            "\tBayesain Stat:0.9967371577896734\n",
            "Conclusion:\n",
            "\twith a CI of 0.95,\n",
            "\twith a p-value of 0.0032628422103265775,\n",
            "\tI suggest that this person is drunk.\n",
            "person was deemed to be drunk after 4 tests\n",
            "\n"
          ],
          "name": "stdout"
        },
        {
          "output_type": "execute_result",
          "data": {
            "text/plain": [
              "''"
            ]
          },
          "metadata": {
            "tags": []
          },
          "execution_count": 18
        }
      ]
    },
    {
      "cell_type": "markdown",
      "metadata": {
        "id": "xl24UzlTv_1x",
        "colab_type": "text"
      },
      "source": [
        "### 2) Explore `scipy.stats.bayes_mvs`  \n",
        "Read its documentation, and experiment with it on data you've tested in other ways earlier this week.\n",
        " - Create a visualization comparing the results of a Bayesian approach to a traditional/frequentist approach. (with a large sample size they should look close to identical, however, take this opportunity to practice visualizing condfidence intervals in general. The following are some potential ways that you could visualize confidence intervals on your graph:\n",
        "  - [Matplotlib Error Bars](https://matplotlib.org/3.1.1/api/_as_gen/matplotlib.pyplot.errorbar.html)\n",
        "  - [Seaborn barplot with error bars](https://seaborn.pydata.org/generated/seaborn.barplot.html)\n",
        "  - [Vertical ines to show bounds of confidence interval](https://www.simplypsychology.org/confidence-interval.jpg)\n",
        "  - [Confidence Intervals on Box Plots](https://matplotlib.org/3.1.1/api/_as_gen/matplotlib.axes.Axes.boxplot.html)"
      ]
    },
    {
      "cell_type": "code",
      "metadata": {
        "id": "mDgX2WijIyx1",
        "colab_type": "code",
        "colab": {}
      },
      "source": [
        "# coping and pasting to get the df's set up\n",
        "import numpy as np\n",
        "import pandas as pd\n",
        "from scipy import stats\n",
        "# column headers\n",
        "names=['party','handicapped-infants','water-project',\n",
        "                          'budget','physician-fee-freeze', 'el-salvador-aid',\n",
        "                          'religious-groups','anti-satellite-ban',\n",
        "                          'aid-to-contras','mx-missile','immigration',\n",
        "                          'synfuels', 'education', 'right-to-sue','crime','duty-free',\n",
        "                          'south-africa']\n",
        "# select my feature that i want to evaluate\n",
        "subject='synfuels'\n",
        "# init the datra frame from csv\n",
        "df=pd.read_csv('/content/house-votes-84.data',names=names)\n",
        "# make everything numbers\n",
        "df=df.replace({'n':0,'y':1,'?':np.NaN})"
      ],
      "execution_count": 0,
      "outputs": []
    },
    {
      "cell_type": "code",
      "metadata": {
        "id": "blbVCsphDfER",
        "colab_type": "code",
        "colab": {}
      },
      "source": [
        "# create a function to return some samples to me\n",
        "def sample_data(df,frac=.5):\n",
        "  s1=df.sample(frac=frac,random_state=200)\n",
        "  s2=df.drop(s1.index)\n",
        "  return s1, s2\n",
        "\n",
        "# define a function that finds the CI's of a sample with a 95% confindence level\n",
        "def CI(data, confidence=0.95):\n",
        "  # find the mean of the data\n",
        "  mean = np.mean(data)\n",
        "  # find the size of the sample\n",
        "  n = len(data)\n",
        "  # calculate standard error\n",
        "  stderr = stats.sem(data,nan_policy='omit')\n",
        "  # Look up the t-statistic that contains 95% of possible sample means\n",
        "  # within its bounds\n",
        "  t = stats.t.ppf((1 + confidence) / 2.0, n - 1)\n",
        "  # calculate the margin of error\n",
        "  margin_of_error = t * stderr\n",
        "  # return the CI bounds and the mean as a tuple\n",
        "  return np.array([mean - margin_of_error, mean, mean + margin_of_error])\n"
      ],
      "execution_count": 0,
      "outputs": []
    },
    {
      "cell_type": "code",
      "metadata": {
        "id": "4aE2SB1YI5Un",
        "colab_type": "code",
        "colab": {}
      },
      "source": [
        "#  pull some samples and assign them\n",
        "# in this case im using an 80/20 split for\n",
        "# my samples because io want to look at the difffrence\n",
        "# in using diffrent sample sizes with the bayensin way and fequentist\n",
        "# way\n",
        "sample1,sample2=sample_data(df,frac=0.8)\n",
        "\n",
        "# find the frequentist CI of the first sample\n",
        "samp1_f_stats=CI(sample1[subject],confidence=0.95)\n",
        "# find the frequentist CI of the second sample\n",
        "samp2_f_stats=CI(sample2[subject],confidence=0.95)\n",
        "\n",
        "s1=sample1[~np.isnan(sample1[subject])]\n",
        "s2=sample2[~np.isnan(sample2[subject])]\n",
        "\n",
        "# find the Bayesian approach CI of the sample1\n",
        "samp1_b_stats ,_ ,_ =stats.bayes_mvs(s1[subject],alpha=0.95)\n",
        "# find the Bayesian approach CI of the sample1\n",
        "samp2_b_stats ,_ ,_ =stats.bayes_mvs(s2[subject],alpha=0.95)"
      ],
      "execution_count": 0,
      "outputs": []
    },
    {
      "cell_type": "code",
      "metadata": {
        "id": "Z7TvO-9dYGbR",
        "colab_type": "code",
        "colab": {
          "base_uri": "https://localhost:8080/",
          "height": 51
        },
        "outputId": "58b88769-bf90-4821-e22f-b81f53995376"
      },
      "source": [
        "print(samp1_b_stats)\n",
        "a,b=samp1_b_stats\n",
        "a"
      ],
      "execution_count": 54,
      "outputs": [
        {
          "output_type": "stream",
          "text": [
            "Mean(statistic=0.3502994011976048, minmax=(0.298873297530582, 0.40172550486462755))\n"
          ],
          "name": "stdout"
        },
        {
          "output_type": "execute_result",
          "data": {
            "text/plain": [
              "0.3502994011976048"
            ]
          },
          "metadata": {
            "tags": []
          },
          "execution_count": 54
        }
      ]
    },
    {
      "cell_type": "code",
      "metadata": {
        "id": "mAMP_0nyEi2c",
        "colab_type": "code",
        "colab": {
          "base_uri": "https://localhost:8080/",
          "height": 631
        },
        "outputId": "f935fad3-aec8-4477-bfad-d5c606e39e82"
      },
      "source": [
        "import matplotlib.pyplot as plt\n",
        "plt.rcParams['figure.figsize']=[16,6]\n",
        "\n",
        "######################################################################\n",
        "##              first data sample (large)                           ##\n",
        "######################################################################\n",
        "# get my figure object\n",
        "fig=plt.figure()\n",
        "fig.suptitle(\"Comparison between bayensin and frquentist\\nmean estimate in a larger\\nsample size\",\n",
        "             fontsize=14,\n",
        "             fontweight='bold')\n",
        "# get my side by side subplots\n",
        "ax0,ax1=fig.subplots(ncols=2)\n",
        "\n",
        "#set eash suplot to my baseline data\n",
        "sample1[subject].plot(ax=ax0 ,kind='kde',label='base data dist')\n",
        "sample1[subject].plot(ax=ax1,kind='kde',label='base data dist')\n",
        "\n",
        "# add frequntist CI to first plot\n",
        "ax0.vlines(samp1_f_stats[0],\n",
        "           0,2,\n",
        "           color='grey',\n",
        "           label=\"frquentist lower CI\")\n",
        "ax0.vlines(samp1_f_stats[1],\n",
        "           0,2,\n",
        "           color='red',\n",
        "           label=\"frquentist estimate mean\")\n",
        "ax0.vlines(samp1_f_stats[2],\n",
        "           ymin=0,ymax=2,\n",
        "           color='grey',\n",
        "           label=\"frquentist upper CI\")\n",
        "ax0.legend(markerscale=2,fontsize=13,fancybox=True)\n",
        "\n",
        "# add bayensin CI to first plot\n",
        "ax0.vlines(samp1_b_stats[1],\n",
        "           0,2,\n",
        "           color='grey',\n",
        "           label=\"bayensin lower CI\")\n",
        "ax0.vlines(samp1_b_stats[0],\n",
        "           0,2,\n",
        "           color='red',\n",
        "           label=\"bayensin estimate mean\")\n",
        "ax0.vlines(samp1_b_stats[2],\n",
        "           ymin=0,ymax=2,\n",
        "           color='grey',\n",
        "           label=\"bayensin upper CI\")\n",
        "ax0.legend(markerscale=2,fontsize=13,fancybox=True)\n",
        "\n",
        "plt.show()\n",
        "\n",
        "\n",
        "######################################################################\n",
        "##              second data sample (small)                          ##\n",
        "######################################################################\n",
        "\n"
      ],
      "execution_count": 47,
      "outputs": [
        {
          "output_type": "error",
          "ename": "IndexError",
          "evalue": "ignored",
          "traceback": [
            "\u001b[0;31m---------------------------------------------------------------------------\u001b[0m",
            "\u001b[0;31mIndexError\u001b[0m                                Traceback (most recent call last)",
            "\u001b[0;32m<ipython-input-47-17aa6db0d128>\u001b[0m in \u001b[0;36m<module>\u001b[0;34m()\u001b[0m\n\u001b[1;32m     41\u001b[0m            \u001b[0mcolor\u001b[0m\u001b[0;34m=\u001b[0m\u001b[0;34m'red'\u001b[0m\u001b[0;34m,\u001b[0m\u001b[0;34m\u001b[0m\u001b[0;34m\u001b[0m\u001b[0m\n\u001b[1;32m     42\u001b[0m            label=\"bayensin estimate mean\")\n\u001b[0;32m---> 43\u001b[0;31m ax0.vlines(samp1_b_stats[2],\n\u001b[0m\u001b[1;32m     44\u001b[0m            \u001b[0mymin\u001b[0m\u001b[0;34m=\u001b[0m\u001b[0;36m0\u001b[0m\u001b[0;34m,\u001b[0m\u001b[0mymax\u001b[0m\u001b[0;34m=\u001b[0m\u001b[0;36m2\u001b[0m\u001b[0;34m,\u001b[0m\u001b[0;34m\u001b[0m\u001b[0;34m\u001b[0m\u001b[0m\n\u001b[1;32m     45\u001b[0m            \u001b[0mcolor\u001b[0m\u001b[0;34m=\u001b[0m\u001b[0;34m'grey'\u001b[0m\u001b[0;34m,\u001b[0m\u001b[0;34m\u001b[0m\u001b[0;34m\u001b[0m\u001b[0m\n",
            "\u001b[0;31mIndexError\u001b[0m: tuple index out of range"
          ]
        },
        {
          "output_type": "display_data",
          "data": {
            "image/png": "[encoded data removed]",
            "text/plain": [
              "<Figure size 1152x432 with 2 Axes>"
            ]
          },
          "metadata": {
            "tags": []
          }
        }
      ]
    },
    {
      "cell_type": "markdown",
      "metadata": {
        "id": "CwHpn_rKwD4b",
        "colab_type": "text"
      },
      "source": [
        "### 3) In your own words, summarize the difference between Bayesian and Frequentist statistics\n",
        "\n",
        "If you're unsure where to start, check out [this blog post of Bayes theorem with Python](https://dataconomy.com/2015/02/introduction-to-bayes-theorem-with-python/)."
      ]
    },
    {
      "cell_type": "code",
      "metadata": {
        "id": "xpVhZyUnbf7o",
        "colab_type": "code",
        "colab": {}
      },
      "source": [
        "# TODO - code!"
      ],
      "execution_count": 0,
      "outputs": []
    },
    {
      "cell_type": "markdown",
      "metadata": {
        "id": "uWgWjp3PQ3Sq",
        "colab_type": "text"
      },
      "source": [
        "## Resources"
      ]
    },
    {
      "cell_type": "markdown",
      "metadata": {
        "id": "QRgHqmYIQ9qn",
        "colab_type": "text"
      },
      "source": [
        "- [Worked example of Bayes rule calculation](https://en.wikipedia.org/wiki/Bayes'_theorem#Examples) (helpful as it fully breaks out the denominator)\n",
        "- [Source code for mvsdist in scipy](https://github.com/scipy/scipy/blob/90534919e139d2a81c24bf08341734ff41a3db12/scipy/stats/morestats.py#L139)"
      ]
    },
    {
      "cell_type": "markdown",
      "metadata": {
        "id": "GP7Jv1XvwtkX",
        "colab_type": "text"
      },
      "source": [
        "## Stretch Goals:\n",
        "\n",
        "- Go back and study the content from Modules 1 & 2 to make sure that you're really comfortable with them.\n",
        "- Apply a Bayesian technique to a problem you previously worked (in an assignment or project work) on from a frequentist (standard) perspective\n",
        "- Check out [PyMC3](https://docs.pymc.io/) (note this goes beyond hypothesis tests into modeling) - read the guides and work through some examples\n",
        "- Take PyMC3 further - see if you can build something with it!"
      ]
    },
    {
      "cell_type": "code",
      "metadata": {
        "id": "iDi0eFr1x-v_",
        "colab_type": "code",
        "colab": {}
      },
      "source": [
        ""
      ],
      "execution_count": 0,
      "outputs": []
    }
  ]
}